{
 "cells": [
  {
   "cell_type": "code",
   "execution_count": 1,
   "id": "dc38d180",
   "metadata": {},
   "outputs": [],
   "source": [
    "import matplotlib.pyplot as plt\n",
    "import numpy as np\n",
    "import pandas as pd\n",
    "import matplotlib as mpl\n",
    "\n",
    "from ipywidgets import widgets,interact,interactive"
   ]
  },
  {
   "cell_type": "code",
   "execution_count": 2,
   "id": "392ad740",
   "metadata": {},
   "outputs": [],
   "source": [
    "df = pd.read_csv('shooting.csv',index_col='Rk')"
   ]
  },
  {
   "cell_type": "code",
   "execution_count": 3,
   "id": "83c7bef6",
   "metadata": {},
   "outputs": [
    {
     "data": {
      "text/html": [
       "<div>\n",
       "<style scoped>\n",
       "    .dataframe tbody tr th:only-of-type {\n",
       "        vertical-align: middle;\n",
       "    }\n",
       "\n",
       "    .dataframe tbody tr th {\n",
       "        vertical-align: top;\n",
       "    }\n",
       "\n",
       "    .dataframe thead th {\n",
       "        text-align: right;\n",
       "    }\n",
       "</style>\n",
       "<table border=\"1\" class=\"dataframe\">\n",
       "  <thead>\n",
       "    <tr style=\"text-align: right;\">\n",
       "      <th></th>\n",
       "      <th>Player</th>\n",
       "      <th>Nation</th>\n",
       "      <th>Pos</th>\n",
       "      <th>Squad</th>\n",
       "      <th>Comp</th>\n",
       "      <th>Age</th>\n",
       "      <th>Born</th>\n",
       "      <th>90s</th>\n",
       "      <th>Gls</th>\n",
       "      <th>Sh</th>\n",
       "      <th>...</th>\n",
       "      <th>Dist</th>\n",
       "      <th>FK</th>\n",
       "      <th>PK</th>\n",
       "      <th>PKatt</th>\n",
       "      <th>xG</th>\n",
       "      <th>npxG</th>\n",
       "      <th>npxG/Sh</th>\n",
       "      <th>G-xG</th>\n",
       "      <th>np:G-xG</th>\n",
       "      <th>Matches</th>\n",
       "    </tr>\n",
       "    <tr>\n",
       "      <th>Rk</th>\n",
       "      <th></th>\n",
       "      <th></th>\n",
       "      <th></th>\n",
       "      <th></th>\n",
       "      <th></th>\n",
       "      <th></th>\n",
       "      <th></th>\n",
       "      <th></th>\n",
       "      <th></th>\n",
       "      <th></th>\n",
       "      <th></th>\n",
       "      <th></th>\n",
       "      <th></th>\n",
       "      <th></th>\n",
       "      <th></th>\n",
       "      <th></th>\n",
       "      <th></th>\n",
       "      <th></th>\n",
       "      <th></th>\n",
       "      <th></th>\n",
       "      <th></th>\n",
       "    </tr>\n",
       "  </thead>\n",
       "  <tbody>\n",
       "    <tr>\n",
       "      <th>1</th>\n",
       "      <td>Ismael Aaneba</td>\n",
       "      <td>FRA</td>\n",
       "      <td>FW,DF</td>\n",
       "      <td>Strasbourg</td>\n",
       "      <td>Ligue 1</td>\n",
       "      <td>21</td>\n",
       "      <td>1999</td>\n",
       "      <td>0.1</td>\n",
       "      <td>0</td>\n",
       "      <td>0</td>\n",
       "      <td>...</td>\n",
       "      <td>0.0</td>\n",
       "      <td>0</td>\n",
       "      <td>0</td>\n",
       "      <td>0</td>\n",
       "      <td>0.0</td>\n",
       "      <td>0.0</td>\n",
       "      <td>0.00</td>\n",
       "      <td>0.0</td>\n",
       "      <td>0.0</td>\n",
       "      <td>Matches</td>\n",
       "    </tr>\n",
       "    <tr>\n",
       "      <th>2</th>\n",
       "      <td>Patrick van Aanholt</td>\n",
       "      <td>NED</td>\n",
       "      <td>DF</td>\n",
       "      <td>Crystal Palace</td>\n",
       "      <td>Premier League</td>\n",
       "      <td>29</td>\n",
       "      <td>1990</td>\n",
       "      <td>19.7</td>\n",
       "      <td>0</td>\n",
       "      <td>18</td>\n",
       "      <td>...</td>\n",
       "      <td>20.3</td>\n",
       "      <td>3</td>\n",
       "      <td>0</td>\n",
       "      <td>0</td>\n",
       "      <td>1.2</td>\n",
       "      <td>1.2</td>\n",
       "      <td>0.07</td>\n",
       "      <td>-1.2</td>\n",
       "      <td>-1.2</td>\n",
       "      <td>Matches</td>\n",
       "    </tr>\n",
       "    <tr>\n",
       "      <th>3</th>\n",
       "      <td>Issah Abbas</td>\n",
       "      <td>GHA</td>\n",
       "      <td>DF,FW</td>\n",
       "      <td>Mainz 05</td>\n",
       "      <td>Bundesliga</td>\n",
       "      <td>21</td>\n",
       "      <td>1998</td>\n",
       "      <td>0.2</td>\n",
       "      <td>0</td>\n",
       "      <td>0</td>\n",
       "      <td>...</td>\n",
       "      <td>0.0</td>\n",
       "      <td>0</td>\n",
       "      <td>0</td>\n",
       "      <td>0</td>\n",
       "      <td>0.0</td>\n",
       "      <td>0.0</td>\n",
       "      <td>0.00</td>\n",
       "      <td>0.0</td>\n",
       "      <td>0.0</td>\n",
       "      <td>Matches</td>\n",
       "    </tr>\n",
       "    <tr>\n",
       "      <th>4</th>\n",
       "      <td>Yunis Abdelhamid</td>\n",
       "      <td>MAR</td>\n",
       "      <td>DF</td>\n",
       "      <td>Reims</td>\n",
       "      <td>Ligue 1</td>\n",
       "      <td>32</td>\n",
       "      <td>1987</td>\n",
       "      <td>32.1</td>\n",
       "      <td>3</td>\n",
       "      <td>15</td>\n",
       "      <td>...</td>\n",
       "      <td>10.2</td>\n",
       "      <td>0</td>\n",
       "      <td>0</td>\n",
       "      <td>0</td>\n",
       "      <td>1.7</td>\n",
       "      <td>1.7</td>\n",
       "      <td>0.11</td>\n",
       "      <td>1.3</td>\n",
       "      <td>1.3</td>\n",
       "      <td>Matches</td>\n",
       "    </tr>\n",
       "    <tr>\n",
       "      <th>5</th>\n",
       "      <td>Sabit Abdulai</td>\n",
       "      <td>GHA</td>\n",
       "      <td>MF</td>\n",
       "      <td>Getafe</td>\n",
       "      <td>La Liga</td>\n",
       "      <td>21</td>\n",
       "      <td>1999</td>\n",
       "      <td>0.7</td>\n",
       "      <td>0</td>\n",
       "      <td>0</td>\n",
       "      <td>...</td>\n",
       "      <td>0.0</td>\n",
       "      <td>0</td>\n",
       "      <td>0</td>\n",
       "      <td>0</td>\n",
       "      <td>0.0</td>\n",
       "      <td>0.0</td>\n",
       "      <td>0.00</td>\n",
       "      <td>0.0</td>\n",
       "      <td>0.0</td>\n",
       "      <td>Matches</td>\n",
       "    </tr>\n",
       "  </tbody>\n",
       "</table>\n",
       "<p>5 rows × 26 columns</p>\n",
       "</div>"
      ],
      "text/plain": [
       "                 Player Nation    Pos           Squad            Comp  Age  \\\n",
       "Rk                                                                           \n",
       "1         Ismael Aaneba    FRA  FW,DF      Strasbourg         Ligue 1   21   \n",
       "2   Patrick van Aanholt    NED     DF  Crystal Palace  Premier League   29   \n",
       "3           Issah Abbas    GHA  DF,FW        Mainz 05      Bundesliga   21   \n",
       "4      Yunis Abdelhamid    MAR     DF           Reims         Ligue 1   32   \n",
       "5         Sabit Abdulai    GHA     MF          Getafe         La Liga   21   \n",
       "\n",
       "    Born   90s  Gls  Sh  ...  Dist  FK  PK  PKatt   xG  npxG  npxG/Sh  G-xG  \\\n",
       "Rk                       ...                                                  \n",
       "1   1999   0.1    0   0  ...   0.0   0   0      0  0.0   0.0     0.00   0.0   \n",
       "2   1990  19.7    0  18  ...  20.3   3   0      0  1.2   1.2     0.07  -1.2   \n",
       "3   1998   0.2    0   0  ...   0.0   0   0      0  0.0   0.0     0.00   0.0   \n",
       "4   1987  32.1    3  15  ...  10.2   0   0      0  1.7   1.7     0.11   1.3   \n",
       "5   1999   0.7    0   0  ...   0.0   0   0      0  0.0   0.0     0.00   0.0   \n",
       "\n",
       "    np:G-xG  Matches  \n",
       "Rk                    \n",
       "1       0.0  Matches  \n",
       "2      -1.2  Matches  \n",
       "3       0.0  Matches  \n",
       "4       1.3  Matches  \n",
       "5       0.0  Matches  \n",
       "\n",
       "[5 rows x 26 columns]"
      ]
     },
     "execution_count": 3,
     "metadata": {},
     "output_type": "execute_result"
    }
   ],
   "source": [
    "df.head()"
   ]
  },
  {
   "cell_type": "code",
   "execution_count": 4,
   "id": "dc36d267",
   "metadata": {},
   "outputs": [],
   "source": [
    "mpl.rcParams['font.family']= 'Candara'\n",
    "mpl.rcParams['font.size'] = 12\n",
    "mpl.rcParams['font.weight'] = 'bold'\n",
    "mpl.rcParams['legend.title_fontsize'] = 20\n",
    "mpl.rcParams['legend.fontsize'] = 17"
   ]
  },
  {
   "cell_type": "code",
   "execution_count": 5,
   "id": "a5f7f1a3",
   "metadata": {},
   "outputs": [],
   "source": [
    "columns = df.columns.to_list()"
   ]
  },
  {
   "cell_type": "code",
   "execution_count": 6,
   "id": "af913b6d",
   "metadata": {},
   "outputs": [
    {
     "data": {
      "text/plain": [
       "['Player',\n",
       " 'Nation',\n",
       " 'Pos',\n",
       " 'Squad',\n",
       " 'Comp',\n",
       " 'Age',\n",
       " 'Born',\n",
       " '90s',\n",
       " 'Gls',\n",
       " 'Sh',\n",
       " 'SoT',\n",
       " 'SoT%',\n",
       " 'Sh/90',\n",
       " 'SoT/90',\n",
       " 'G/Sh',\n",
       " 'G/SoT',\n",
       " 'Dist',\n",
       " 'FK',\n",
       " 'PK',\n",
       " 'PKatt',\n",
       " 'xG',\n",
       " 'npxG',\n",
       " 'npxG/Sh',\n",
       " 'G-xG',\n",
       " 'np:G-xG',\n",
       " 'Matches']"
      ]
     },
     "execution_count": 6,
     "metadata": {},
     "output_type": "execute_result"
    }
   ],
   "source": [
    "columns"
   ]
  },
  {
   "cell_type": "code",
   "execution_count": 7,
   "id": "26ea55da",
   "metadata": {},
   "outputs": [],
   "source": [
    "columns = columns[8:-1]"
   ]
  },
  {
   "cell_type": "markdown",
   "id": "b8283be3",
   "metadata": {},
   "source": [
    "# WIDGETS"
   ]
  },
  {
   "cell_type": "code",
   "execution_count": 8,
   "id": "66b5a6e1",
   "metadata": {},
   "outputs": [
    {
     "data": {
      "application/vnd.jupyter.widget-view+json": {
       "model_id": "decf65a54e5141a9bf448cdd53ac8911",
       "version_major": 2,
       "version_minor": 0
      },
      "text/plain": [
       "Dropdown(description='X Axis:', options=('Gls', 'Sh', 'SoT', 'SoT%', 'Sh/90', 'SoT/90', 'G/Sh', 'G/SoT', 'Dist…"
      ]
     },
     "metadata": {},
     "output_type": "display_data"
    }
   ],
   "source": [
    "# WIDGET FOR SELECTING X AXES PARAMETER\n",
    "\n",
    "x_val = widgets.Dropdown(\n",
    "    options=columns,\n",
    "    value=None,\n",
    "    description='X Axis:',\n",
    ")\n",
    "display(x_val)"
   ]
  },
  {
   "cell_type": "code",
   "execution_count": 9,
   "id": "18a4f56a",
   "metadata": {},
   "outputs": [],
   "source": [
    "x_val.value"
   ]
  },
  {
   "cell_type": "code",
   "execution_count": 10,
   "id": "d86a41db",
   "metadata": {},
   "outputs": [
    {
     "data": {
      "application/vnd.jupyter.widget-view+json": {
       "model_id": "fc83902630e54438bfb3bfeaac4d9e1d",
       "version_major": 2,
       "version_minor": 0
      },
      "text/plain": [
       "Dropdown(description='Y Axis:', options=('Gls', 'Sh', 'SoT', 'SoT%', 'Sh/90', 'SoT/90', 'G/Sh', 'G/SoT', 'Dist…"
      ]
     },
     "metadata": {},
     "output_type": "display_data"
    }
   ],
   "source": [
    "# WIDGET FOR SELECTING X AXES PARAMETER\n",
    "\n",
    "y_val = widgets.Dropdown(\n",
    "    options=columns,\n",
    "    value=None,\n",
    "    description='Y Axis:',\n",
    ")\n",
    "display(y_val)"
   ]
  },
  {
   "cell_type": "code",
   "execution_count": 11,
   "id": "bfa3b1b4",
   "metadata": {},
   "outputs": [],
   "source": [
    "y_val.value"
   ]
  },
  {
   "cell_type": "code",
   "execution_count": 12,
   "id": "4a23c8bf",
   "metadata": {},
   "outputs": [
    {
     "data": {
      "application/vnd.jupyter.widget-view+json": {
       "model_id": "866d48d76dd64e1dbb7195dc5fb565e3",
       "version_major": 2,
       "version_minor": 0
      },
      "text/plain": [
       "Checkbox(value=False, description='Per 90', indent=False)"
      ]
     },
     "metadata": {},
     "output_type": "display_data"
    }
   ],
   "source": [
    "# WIDGET FOR CONVERTING TO PER 90\n",
    "\n",
    "per90 = widgets.Checkbox(\n",
    "    value=False,\n",
    "    description='Per 90',\n",
    "    disabled=False,\n",
    "    indent=False,\n",
    ")\n",
    "display(per90)"
   ]
  },
  {
   "cell_type": "code",
   "execution_count": 13,
   "id": "d58778a3",
   "metadata": {},
   "outputs": [
    {
     "data": {
      "text/plain": [
       "False"
      ]
     },
     "execution_count": 13,
     "metadata": {},
     "output_type": "execute_result"
    }
   ],
   "source": [
    "per90.value"
   ]
  },
  {
   "cell_type": "code",
   "execution_count": 14,
   "id": "6c6eb73e",
   "metadata": {},
   "outputs": [
    {
     "data": {
      "application/vnd.jupyter.widget-view+json": {
       "model_id": "c8d493a4e6a14f6e800db3908ae1bdcd",
       "version_major": 2,
       "version_minor": 0
      },
      "text/plain": [
       "FloatSlider(value=0.0, description='Minm 90s:', max=38.0)"
      ]
     },
     "metadata": {},
     "output_type": "display_data"
    }
   ],
   "source": [
    "# WIDGETS FOR MINIMUM 90s\n",
    "\n",
    "games = widgets.FloatSlider(min = 0, max = 38, step = 0.1,\n",
    "                            description = 'Minm 90s:')\n",
    "display(games)"
   ]
  },
  {
   "cell_type": "code",
   "execution_count": 15,
   "id": "e49b47d5",
   "metadata": {},
   "outputs": [
    {
     "data": {
      "text/plain": [
       "0.0"
      ]
     },
     "execution_count": 15,
     "metadata": {},
     "output_type": "execute_result"
    }
   ],
   "source": [
    "games.value"
   ]
  },
  {
   "cell_type": "code",
   "execution_count": 16,
   "id": "98e1cb28",
   "metadata": {},
   "outputs": [
    {
     "data": {
      "application/vnd.jupyter.widget-view+json": {
       "model_id": "784a1a7ef77c4dba8dfd3d11ee65450d",
       "version_major": 2,
       "version_minor": 0
      },
      "text/plain": [
       "Combobox(value='', description='Club:', options=('Strasbourg', 'Crystal Palace', 'Mainz 05', 'Reims', 'Getafe'…"
      ]
     },
     "metadata": {},
     "output_type": "display_data"
    }
   ],
   "source": [
    "# WIDGET FOR PARTICULAR CLUB\n",
    "\n",
    "clubs = df['Squad'].unique().tolist()\n",
    "club = widgets.Combobox(\n",
    "    options=clubs,\n",
    "    value = None,\n",
    "    description='Club:',\n",
    "    placeholder='Choose A Club'\n",
    ")\n",
    "display(club)"
   ]
  },
  {
   "cell_type": "code",
   "execution_count": 17,
   "id": "4660b8b0",
   "metadata": {},
   "outputs": [
    {
     "data": {
      "text/plain": [
       "''"
      ]
     },
     "execution_count": 17,
     "metadata": {},
     "output_type": "execute_result"
    }
   ],
   "source": [
    "club.value"
   ]
  },
  {
   "cell_type": "code",
   "execution_count": 18,
   "id": "72f79bec",
   "metadata": {},
   "outputs": [
    {
     "data": {
      "application/vnd.jupyter.widget-view+json": {
       "model_id": "b6ae0256acbe4388955be63ab569d790",
       "version_major": 2,
       "version_minor": 0
      },
      "text/plain": [
       "Combobox(value='', description='Player:', ensure_option=True, options=('Ismael Aaneba', 'Patrick van Aanholt',…"
      ]
     },
     "metadata": {},
     "output_type": "display_data"
    }
   ],
   "source": [
    "# WIDGET FOR PLAYER\n",
    "\n",
    "if len(club.value)==0:\n",
    "    players = df['Player'].unique().tolist()\n",
    "else:\n",
    "    players = df[df['Squad']==club.value]['Player'].unique().tolist()\n",
    "\n",
    "player = widgets.Combobox(\n",
    "    placeholder='Choose a Footballer',\n",
    "    options=players,\n",
    "    description='Player:',\n",
    "    ensure_option=True,\n",
    "    disabled=False\n",
    ")\n",
    "display(player)"
   ]
  },
  {
   "cell_type": "code",
   "execution_count": 19,
   "id": "f91e90e6",
   "metadata": {},
   "outputs": [
    {
     "data": {
      "text/plain": [
       "''"
      ]
     },
     "execution_count": 19,
     "metadata": {},
     "output_type": "execute_result"
    }
   ],
   "source": [
    "player.value"
   ]
  },
  {
   "cell_type": "code",
   "execution_count": 20,
   "id": "4f7937cb",
   "metadata": {},
   "outputs": [
    {
     "data": {
      "application/vnd.jupyter.widget-view+json": {
       "model_id": "c389aaaa081e4dcca9b51879ec275adb",
       "version_major": 2,
       "version_minor": 0
      },
      "text/plain": [
       "SelectMultiple(description='Positions:', index=(5,), options=('FW,DF', 'DF', 'DF,FW', 'MF', 'FW,MF', 'FW', 'MF…"
      ]
     },
     "metadata": {},
     "output_type": "display_data"
    }
   ],
   "source": [
    "# WIDGET FOR POSITION FILTERING\n",
    "# You need to press shift while selecting multiple columns\n",
    "\n",
    "pos = df['Pos'].unique().tolist()\n",
    "\n",
    "positions = widgets.SelectMultiple(\n",
    "    options=pos,\n",
    "    value=['FW'],\n",
    "    #rows=10,\n",
    "    description='Positions:',\n",
    "    disabled=False\n",
    ")\n",
    "display(positions)"
   ]
  },
  {
   "cell_type": "code",
   "execution_count": 21,
   "id": "0d88cd25",
   "metadata": {},
   "outputs": [
    {
     "data": {
      "text/plain": [
       "('FW',)"
      ]
     },
     "execution_count": 21,
     "metadata": {},
     "output_type": "execute_result"
    }
   ],
   "source": [
    "positions.value"
   ]
  },
  {
   "cell_type": "code",
   "execution_count": 22,
   "id": "8f096560",
   "metadata": {},
   "outputs": [
    {
     "data": {
      "application/vnd.jupyter.widget-view+json": {
       "model_id": "3df66680e5ef4fb789c966d9a6d83a62",
       "version_major": 2,
       "version_minor": 0
      },
      "text/plain": [
       "ColorPicker(value='white', description='Background:')"
      ]
     },
     "metadata": {},
     "output_type": "display_data"
    }
   ],
   "source": [
    "#Choose background color\n",
    "\n",
    "bgcolor = widgets.ColorPicker(\n",
    "    concise=False,\n",
    "    description='Background:',\n",
    "    value='white',\n",
    "    disabled=False\n",
    ")\n",
    "display(bgcolor)"
   ]
  },
  {
   "cell_type": "code",
   "execution_count": 23,
   "id": "3bbb32ae",
   "metadata": {},
   "outputs": [
    {
     "data": {
      "text/plain": [
       "'white'"
      ]
     },
     "execution_count": 23,
     "metadata": {},
     "output_type": "execute_result"
    }
   ],
   "source": [
    "bgcolor.value"
   ]
  },
  {
   "cell_type": "code",
   "execution_count": 24,
   "id": "a1163082",
   "metadata": {},
   "outputs": [
    {
     "data": {
      "application/vnd.jupyter.widget-view+json": {
       "model_id": "69c08593c1494175ab89b5768482848d",
       "version_major": 2,
       "version_minor": 0
      },
      "text/plain": [
       "ColorPicker(value='black', description='Label color:')"
      ]
     },
     "metadata": {},
     "output_type": "display_data"
    }
   ],
   "source": [
    "#choose remaining point color\n",
    "\n",
    "lab_col = widgets.ColorPicker(\n",
    "    concise=False,\n",
    "    description='Label color:',\n",
    "    value='black',\n",
    "    disabled=False\n",
    ")\n",
    "display(lab_col)"
   ]
  },
  {
   "cell_type": "code",
   "execution_count": 25,
   "id": "0fb95d04",
   "metadata": {},
   "outputs": [
    {
     "data": {
      "text/plain": [
       "'black'"
      ]
     },
     "execution_count": 25,
     "metadata": {},
     "output_type": "execute_result"
    }
   ],
   "source": [
    "lab_col.value"
   ]
  },
  {
   "cell_type": "code",
   "execution_count": 26,
   "id": "ed6e4146",
   "metadata": {},
   "outputs": [
    {
     "data": {
      "application/vnd.jupyter.widget-view+json": {
       "model_id": "b6397c835f404049bb814d7ac9e47776",
       "version_major": 2,
       "version_minor": 0
      },
      "text/plain": [
       "ColorPicker(value='blue', description='Point color:')"
      ]
     },
     "metadata": {},
     "output_type": "display_data"
    }
   ],
   "source": [
    "#choose main point color for player\n",
    "\n",
    "point_col = widgets.ColorPicker(\n",
    "    concise=False,\n",
    "    description='Point color:',\n",
    "    value='blue',\n",
    "    disabled=False\n",
    ")\n",
    "display(point_col)"
   ]
  },
  {
   "cell_type": "code",
   "execution_count": 27,
   "id": "bb826898",
   "metadata": {},
   "outputs": [
    {
     "data": {
      "text/plain": [
       "'blue'"
      ]
     },
     "execution_count": 27,
     "metadata": {},
     "output_type": "execute_result"
    }
   ],
   "source": [
    "point_col.value"
   ]
  },
  {
   "cell_type": "code",
   "execution_count": 28,
   "id": "8577dc37",
   "metadata": {},
   "outputs": [
    {
     "data": {
      "application/vnd.jupyter.widget-view+json": {
       "model_id": "05cd4e2d272b44a7b8cd64725de6acfa",
       "version_major": 2,
       "version_minor": 0
      },
      "text/plain": [
       "ColorPicker(value='black', description='Font Color:')"
      ]
     },
     "metadata": {},
     "output_type": "display_data"
    }
   ],
   "source": [
    "#choose main point color for player\n",
    "\n",
    "text_col = widgets.ColorPicker(\n",
    "    concise=False,\n",
    "    description='Font Color:',\n",
    "    value='black',\n",
    "    disabled=False\n",
    ")\n",
    "display(text_col)"
   ]
  },
  {
   "cell_type": "code",
   "execution_count": 29,
   "id": "9366d271",
   "metadata": {},
   "outputs": [
    {
     "data": {
      "text/plain": [
       "'black'"
      ]
     },
     "execution_count": 29,
     "metadata": {},
     "output_type": "execute_result"
    }
   ],
   "source": [
    "text_col.value"
   ]
  },
  {
   "cell_type": "code",
   "execution_count": 30,
   "id": "0f191910",
   "metadata": {},
   "outputs": [
    {
     "data": {
      "application/vnd.jupyter.widget-view+json": {
       "model_id": "5bd3ae815d0046e29a4fc278c2e3f572",
       "version_major": 2,
       "version_minor": 0
      },
      "text/plain": [
       "Text(value='', description='Plot Title:', placeholder='Type something')"
      ]
     },
     "metadata": {},
     "output_type": "display_data"
    }
   ],
   "source": [
    "# CHOOSING TITLE OF PLOT\n",
    "\n",
    "title = widgets.Text(\n",
    "    placeholder='Type something',\n",
    "    description='Plot Title:',\n",
    "    disabled=False\n",
    ")\n",
    "display(title)"
   ]
  },
  {
   "cell_type": "code",
   "execution_count": 31,
   "id": "f7683c40",
   "metadata": {},
   "outputs": [
    {
     "data": {
      "text/plain": [
       "''"
      ]
     },
     "execution_count": 31,
     "metadata": {},
     "output_type": "execute_result"
    }
   ],
   "source": [
    "title.value"
   ]
  },
  {
   "cell_type": "code",
   "execution_count": 32,
   "id": "2a28503b",
   "metadata": {},
   "outputs": [
    {
     "data": {
      "application/vnd.jupyter.widget-view+json": {
       "model_id": "7d158cc1da214a84b472fe0f4cfcbe75",
       "version_major": 2,
       "version_minor": 0
      },
      "text/plain": [
       "Text(value='', description='X Label:', placeholder='Type something')"
      ]
     },
     "metadata": {},
     "output_type": "display_data"
    }
   ],
   "source": [
    "# CHOOSING X AXIS LABEL\n",
    "\n",
    "x_lab = widgets.Text(\n",
    "    placeholder='Type something',\n",
    "    description='X Label:',\n",
    "    disabled=False\n",
    ")\n",
    "display(x_lab)"
   ]
  },
  {
   "cell_type": "code",
   "execution_count": 33,
   "id": "37cfefac",
   "metadata": {},
   "outputs": [
    {
     "data": {
      "text/plain": [
       "''"
      ]
     },
     "execution_count": 33,
     "metadata": {},
     "output_type": "execute_result"
    }
   ],
   "source": [
    "x_lab.value"
   ]
  },
  {
   "cell_type": "code",
   "execution_count": 34,
   "id": "8d558713",
   "metadata": {},
   "outputs": [
    {
     "data": {
      "application/vnd.jupyter.widget-view+json": {
       "model_id": "7bfe9fddb5924770a61e279a26fb2aef",
       "version_major": 2,
       "version_minor": 0
      },
      "text/plain": [
       "Text(value='', description='Y Label:', placeholder='Type something')"
      ]
     },
     "metadata": {},
     "output_type": "display_data"
    }
   ],
   "source": [
    "# CHOOSING Y AXIS LABEL\n",
    "\n",
    "y_lab = widgets.Text(\n",
    "    placeholder='Type something',\n",
    "    description='Y Label:',\n",
    "    disabled=False\n",
    ")\n",
    "display(y_lab)"
   ]
  },
  {
   "cell_type": "code",
   "execution_count": 35,
   "id": "26b38041",
   "metadata": {},
   "outputs": [
    {
     "data": {
      "text/plain": [
       "''"
      ]
     },
     "execution_count": 35,
     "metadata": {},
     "output_type": "execute_result"
    }
   ],
   "source": [
    "y_lab.value"
   ]
  },
  {
   "cell_type": "markdown",
   "id": "a17df0ce",
   "metadata": {},
   "source": [
    "# CREATING A FUNCTION WHICH PLOTS THIS"
   ]
  },
  {
   "cell_type": "code",
   "execution_count": 36,
   "id": "8b656660",
   "metadata": {},
   "outputs": [],
   "source": [
    "def plot_graph(x_val, y_val, per90, min_90s, player, positions, title, x_label, y_label, background_col, \n",
    "               point_col, label_col):\n",
    "    \n",
    "    fig, ax = plt.subplots(figsize=(10,8))\n",
    "    fig.set_facecolor(background_col)\n",
    "    ax.patch.set_facecolor(background_col)\n",
    "    \n",
    "    \n",
    "    ax.set_xlabel(x_label,fontdict = {'weight':'heavy', 'fontsize':20})\n",
    "    ax.set_ylabel(y_label,fontdict = {'weight':'heavy', 'fontsize':20})\n",
    "    ax.set_title(title,pad=10,loc='left',fontdict = {'weight':'heavy', 'fontsize':25})\n",
    "    \n",
    "    df_fil = df.copy()\n",
    "    df_fil = df_fil[df_fil['90s']>=min_90s]\n",
    "    df_fil = df_fil[df_fil['Pos'].apply(lambda x: x in list(positions))]\n",
    "    \n",
    "    ax.grid(color='grey', alpha=0.5, ls='dashed',lw=0.5)\n",
    "    \n",
    "    if per90:\n",
    "        df_fil[x_val] = df_fil[x_val]/df_fil['90s']\n",
    "        df_fil[y_val] = df_fil[y_val]/df_fil['90s']\n",
    "        \n",
    "    x,y = df_fil[x_val], df_fil[y_val]\n",
    "    \n",
    "    ax.scatter(x,y,c=label_col,alpha=0.5)\n",
    "    \n",
    "    df_player = df_fil[df_fil['Player']==player]\n",
    "    if len(df_player)==0:\n",
    "        print (player + ' does not have adequate minutes or isn\\'t within the specified positions')\n",
    "        return 0\n",
    "    \n",
    "    ax.scatter(df_player[x_val], df_player[y_val], c=point_col)\n",
    "    x_sh, y_sh = (max(x)-min(x))/20, (max(y)-min(y))/50\n",
    "    ax.text(df_player[x_val]-x_sh, df_player[y_val] + y_sh , player, size=12)\n",
    "    \n",
    "    plt.tight_layout()"
   ]
  },
  {
   "cell_type": "markdown",
   "id": "be9a88ca",
   "metadata": {},
   "source": [
    "# ASSIMILATING ALL WIDGETS TOGETHER"
   ]
  },
  {
   "cell_type": "code",
   "execution_count": 37,
   "id": "602b878b",
   "metadata": {
    "scrolled": false
   },
   "outputs": [
    {
     "data": {
      "application/vnd.jupyter.widget-view+json": {
       "model_id": "decf65a54e5141a9bf448cdd53ac8911",
       "version_major": 2,
       "version_minor": 0
      },
      "text/plain": [
       "Dropdown(description='X Axis:', options=('Gls', 'Sh', 'SoT', 'SoT%', 'Sh/90', 'SoT/90', 'G/Sh', 'G/SoT', 'Dist…"
      ]
     },
     "metadata": {},
     "output_type": "display_data"
    },
    {
     "data": {
      "application/vnd.jupyter.widget-view+json": {
       "model_id": "fc83902630e54438bfb3bfeaac4d9e1d",
       "version_major": 2,
       "version_minor": 0
      },
      "text/plain": [
       "Dropdown(description='Y Axis:', options=('Gls', 'Sh', 'SoT', 'SoT%', 'Sh/90', 'SoT/90', 'G/Sh', 'G/SoT', 'Dist…"
      ]
     },
     "metadata": {},
     "output_type": "display_data"
    },
    {
     "data": {
      "application/vnd.jupyter.widget-view+json": {
       "model_id": "866d48d76dd64e1dbb7195dc5fb565e3",
       "version_major": 2,
       "version_minor": 0
      },
      "text/plain": [
       "Checkbox(value=False, description='Per 90', indent=False)"
      ]
     },
     "metadata": {},
     "output_type": "display_data"
    },
    {
     "data": {
      "application/vnd.jupyter.widget-view+json": {
       "model_id": "c8d493a4e6a14f6e800db3908ae1bdcd",
       "version_major": 2,
       "version_minor": 0
      },
      "text/plain": [
       "FloatSlider(value=0.0, description='Minm 90s:', max=38.0)"
      ]
     },
     "metadata": {},
     "output_type": "display_data"
    },
    {
     "data": {
      "application/vnd.jupyter.widget-view+json": {
       "model_id": "784a1a7ef77c4dba8dfd3d11ee65450d",
       "version_major": 2,
       "version_minor": 0
      },
      "text/plain": [
       "Combobox(value='', description='Club:', options=('Strasbourg', 'Crystal Palace', 'Mainz 05', 'Reims', 'Getafe'…"
      ]
     },
     "metadata": {},
     "output_type": "display_data"
    },
    {
     "data": {
      "application/vnd.jupyter.widget-view+json": {
       "model_id": "b6ae0256acbe4388955be63ab569d790",
       "version_major": 2,
       "version_minor": 0
      },
      "text/plain": [
       "Combobox(value='', description='Player:', ensure_option=True, options=('Ismael Aaneba', 'Patrick van Aanholt',…"
      ]
     },
     "metadata": {},
     "output_type": "display_data"
    },
    {
     "data": {
      "application/vnd.jupyter.widget-view+json": {
       "model_id": "c389aaaa081e4dcca9b51879ec275adb",
       "version_major": 2,
       "version_minor": 0
      },
      "text/plain": [
       "SelectMultiple(description='Positions:', index=(5,), options=('FW,DF', 'DF', 'DF,FW', 'MF', 'FW,MF', 'FW', 'MF…"
      ]
     },
     "metadata": {},
     "output_type": "display_data"
    },
    {
     "data": {
      "application/vnd.jupyter.widget-view+json": {
       "model_id": "3df66680e5ef4fb789c966d9a6d83a62",
       "version_major": 2,
       "version_minor": 0
      },
      "text/plain": [
       "ColorPicker(value='white', description='Background:')"
      ]
     },
     "metadata": {},
     "output_type": "display_data"
    },
    {
     "data": {
      "application/vnd.jupyter.widget-view+json": {
       "model_id": "05cd4e2d272b44a7b8cd64725de6acfa",
       "version_major": 2,
       "version_minor": 0
      },
      "text/plain": [
       "ColorPicker(value='black', description='Font Color:')"
      ]
     },
     "metadata": {},
     "output_type": "display_data"
    },
    {
     "data": {
      "application/vnd.jupyter.widget-view+json": {
       "model_id": "69c08593c1494175ab89b5768482848d",
       "version_major": 2,
       "version_minor": 0
      },
      "text/plain": [
       "ColorPicker(value='black', description='Label color:')"
      ]
     },
     "metadata": {},
     "output_type": "display_data"
    },
    {
     "data": {
      "application/vnd.jupyter.widget-view+json": {
       "model_id": "b6397c835f404049bb814d7ac9e47776",
       "version_major": 2,
       "version_minor": 0
      },
      "text/plain": [
       "ColorPicker(value='blue', description='Point color:')"
      ]
     },
     "metadata": {},
     "output_type": "display_data"
    },
    {
     "data": {
      "application/vnd.jupyter.widget-view+json": {
       "model_id": "5bd3ae815d0046e29a4fc278c2e3f572",
       "version_major": 2,
       "version_minor": 0
      },
      "text/plain": [
       "Text(value='', description='Plot Title:', placeholder='Type something')"
      ]
     },
     "metadata": {},
     "output_type": "display_data"
    },
    {
     "data": {
      "application/vnd.jupyter.widget-view+json": {
       "model_id": "7d158cc1da214a84b472fe0f4cfcbe75",
       "version_major": 2,
       "version_minor": 0
      },
      "text/plain": [
       "Text(value='', description='X Label:', placeholder='Type something')"
      ]
     },
     "metadata": {},
     "output_type": "display_data"
    },
    {
     "data": {
      "application/vnd.jupyter.widget-view+json": {
       "model_id": "7bfe9fddb5924770a61e279a26fb2aef",
       "version_major": 2,
       "version_minor": 0
      },
      "text/plain": [
       "Text(value='', description='Y Label:', placeholder='Type something')"
      ]
     },
     "metadata": {},
     "output_type": "display_data"
    }
   ],
   "source": [
    "display(x_val)\n",
    "display(y_val)\n",
    "display(per90)\n",
    "display(games)\n",
    "display(club)\n",
    "display(player)\n",
    "display(positions)\n",
    "display(bgcolor)\n",
    "display(text_col)\n",
    "display(lab_col)\n",
    "display(point_col)\n",
    "display(title)\n",
    "display(x_lab)\n",
    "display(y_lab)"
   ]
  },
  {
   "cell_type": "code",
   "execution_count": 38,
   "id": "5a51f1dc",
   "metadata": {},
   "outputs": [
    {
     "data": {
      "image/png": "[encoded data removed]",
      "text/plain": [
       "<Figure size 720x576 with 1 Axes>"
      ]
     },
     "metadata": {},
     "output_type": "display_data"
    }
   ],
   "source": [
    "plot_graph(x_val.value,y_val.value,per90.value,games.value,player.value,\n",
    "               positions.value,title.value,x_lab.value,y_lab.value,bgcolor.value,\n",
    "               point_col.value,lab_col.value)"
   ]
  },
  {
   "cell_type": "code",
   "execution_count": null,
   "id": "14c7de08",
   "metadata": {},
   "outputs": [],
   "source": []
  },
  {
   "cell_type": "code",
   "execution_count": null,
   "id": "915da414",
   "metadata": {},
   "outputs": [],
   "source": []
  }
 ],
 "metadata": {
  "kernelspec": {
   "display_name": "Python 3",
   "language": "python",
   "name": "python3"
  },
  "language_info": {
   "codemirror_mode": {
    "name": "ipython",
    "version": 3
   },
   "file_extension": ".py",
   "mimetype": "text/x-python",
   "name": "python",
   "nbconvert_exporter": "python",
   "pygments_lexer": "ipython3",
   "version": "3.7.10"
  }
 },
 "nbformat": 4,
 "nbformat_minor": 5
}
